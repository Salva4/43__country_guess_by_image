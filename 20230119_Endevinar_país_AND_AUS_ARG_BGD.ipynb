{
  "nbformat": 4,
  "nbformat_minor": 0,
  "metadata": {
    "colab": {
      "provenance": [],
      "authorship_tag": "ABX9TyO1iO1okB1tmf1b0ilGA4AZ",
      "include_colab_link": true
    },
    "kernelspec": {
      "name": "python3",
      "display_name": "Python 3"
    },
    "language_info": {
      "name": "python"
    },
    "accelerator": "GPU",
    "gpuClass": "standard"
  },
  "cells": [
    {
      "cell_type": "markdown",
      "metadata": {
        "id": "view-in-github",
        "colab_type": "text"
      },
      "source": [
        "<a href=\"https://colab.research.google.com/github/Salva4/43__country_guess_by_image/blob/main/20230119_Endevinar_pa%C3%ADs_AND_AUS_ARG_BGD.ipynb\" target=\"_parent\"><img src=\"https://colab.research.google.com/assets/colab-badge.svg\" alt=\"Open In Colab\"/></a>"
      ]
    },
    {
      "cell_type": "markdown",
      "source": [
        "# Country prediction by image\n",
        "## Andorra / Australia / Argentina / Bangladesh"
      ],
      "metadata": {
        "id": "vdMqC7Kp0xIl"
      }
    },
    {
      "cell_type": "code",
      "execution_count": 1,
      "metadata": {
        "id": "Ue9bmdT5RhJD"
      },
      "outputs": [],
      "source": [
        "!unzip res.zip > null"
      ]
    },
    {
      "cell_type": "code",
      "source": [
        "# !python3 main.py"
      ],
      "metadata": {
        "id": "OyYk8OoVRyZQ"
      },
      "execution_count": null,
      "outputs": []
    },
    {
      "cell_type": "markdown",
      "source": [
        "## main.py"
      ],
      "metadata": {
        "id": "HJXK8hAX0BF4"
      }
    },
    {
      "cell_type": "code",
      "source": [
        "## Numpy and Matplotlib\n",
        "import numpy as np\n",
        "import matplotlib.pyplot as plt\n",
        "\n",
        "## Pytorch\n",
        "import torch\n",
        "import torch.nn as nn\n",
        "from torchvision.transforms import transforms\n",
        "\n",
        "## Others\n",
        "import os\n",
        "from PIL import Image\n",
        "import random\n",
        "\n",
        "## Parameters\n",
        "COUNTRIES = 'AND AUS ARG BGD'.split()\n",
        "PROP_TR = .8\n",
        "\n",
        "## Paths\n",
        "path_imgs = 'res/imgs'\n",
        "\n",
        "## Classes and functions\n",
        "class CNN(nn.Module):\n",
        "  def __init__(self, dim_out):\n",
        "    super(CNN, self).__init__()\n",
        "    self.conv1 = nn.Conv2d(3, 32, 3)    # inp_sz = (32, 32)\n",
        "    self.conv2 = nn.Conv2d(32, 32, 3)\n",
        "    self.conv3 = nn.Conv2d(32, 32, 3)\n",
        "    self.fc1 = nn.Linear(26*26*32, 256)\n",
        "    self.fc2 = nn.Linear(256, dim_out)\n",
        "    self.dropout1 = nn.Dropout(p=.05)\n",
        "    self.dropout2 = nn.Dropout(p=.05)\n",
        "    self.dropout3 = nn.Dropout(p=.05)\n",
        "    self.dropout4 = nn.Dropout(p=.05)\n",
        "\n",
        "  def forward(self, x):                       # (16,  3, 32, 32)\n",
        "    ## Conv\n",
        "    x = self.dropout1(self.conv1(x).relu())   # (16, 32, 30, 30)\n",
        "    x = self.dropout2(self.conv2(x).relu())   # (16, 32, 28, 28)\n",
        "    x = self.dropout3(self.conv3(x).relu())   # (16, 32, 26, 26)\n",
        "\n",
        "    ## MLP\n",
        "    x = x.reshape(x.shape[0], -1)             # (16,    21632)\n",
        "    x = self.dropout4(self.fc1(x).relu())     # (16,      256)\n",
        "    x = self.fc2(x)                           # (16, #classes)\n",
        "\n",
        "    return x\n",
        "\n",
        "def ds_(dev):\n",
        "  ds = []\n",
        "  for i, country in enumerate(COUNTRIES):\n",
        "    path = f'{path_imgs}/{country}'\n",
        "    for fn in os.listdir(path):\n",
        "      if fn == \".DS_Store\": continue\n",
        "      fn = f'{path}/{fn}'\n",
        "      img = Image.open(fn)\n",
        "      tensor = transforms.ToTensor()(img)[:3].to(dev)\n",
        "      label = torch.tensor(i, dtype=torch.long).to(dev)\n",
        "      ds.append((tensor, label))\n",
        "\n",
        "  n = len(ds)\n",
        "  random.shuffle(ds)\n",
        "  ds_tr, ds_te = ds[:int(PROP_TR*n)], ds[int(PROP_TR*n):]\n",
        "  ds_dict = dict(zip(('tr', 'te'), (ds_tr, ds_te)))\n",
        "  return ds_dict\n",
        "\n",
        "def dl_(ds):\n",
        "  config = {'batch_size': 16, 'shuffle': True, 'drop_last': False}\n",
        "  dl_tr = torch.utils.data.DataLoader(ds['tr'], **config)\n",
        "  dl_te = torch.utils.data.DataLoader(ds['te'], **config)\n",
        "  dl_dict = dict(zip(('tr', 'te'), (dl_tr, dl_te)))\n",
        "  return dl_dict\n",
        "\n",
        "def evaluate(model, criterion, dl):\n",
        "  model.eval()\n",
        "  corr, tot = 0, 0\n",
        "  losses = []\n",
        "  for i, (inp, tgt) in enumerate(dl):\n",
        "    ## Fwd\n",
        "    out = model(inp)\n",
        "    loss = criterion(out, tgt)\n",
        "    losses.append(loss.item())\n",
        "\n",
        "    pred = torch.argmax(out, dim=-1)\n",
        "    corr += (pred == tgt).sum()\n",
        "    tot += pred.shape[0]\n",
        "\n",
        "  acc_te = (corr/tot)\n",
        "  print(f'Loss_te: {np.mean(losses) :.4f} \\t Acc_te: {acc_te.item() :.4f}')\n",
        "\n",
        "def show_example(model, dl, dev):\n",
        "  model.eval()\n",
        "  for i, country in enumerate(COUNTRIES):\n",
        "    ## Load image\n",
        "    path = f'{path_imgs}/{country}'\n",
        "    for fn in os.listdir(path):\n",
        "      if fn == \".DS_Store\": continue\n",
        "      fn = f'{path}/{fn}'\n",
        "      img = Image.open(fn)\n",
        "      tensor = transforms.ToTensor()(img)[:3].to(dev)\n",
        "      label = torch.tensor(i, dtype=torch.long).to(dev)\n",
        "      break\n",
        "    plt.imshow(img)\n",
        "    plt.show()\n",
        "\n",
        "    ## Predict country\n",
        "    inp, tgt = tensor.unsqueeze(dim=0), label.unsqueeze(dim=0)\n",
        "    out = model(inp)\n",
        "    pred = torch.argmax(out, dim=-1)\n",
        "    country_pred, country_tgt = COUNTRIES[pred[0].item()], COUNTRIES[tgt[0].item()]\n",
        "    print(f\"{'Predicted: ':>12}{country_pred}\")\n",
        "    print(f\"{'Target: ':>12}{country_tgt}\")\n",
        "    print(f\"-\"*50)\n",
        "    if i > 5: break\n",
        "  # plt.show()\n",
        "\n",
        "def train(model, optimizer, criterion, dl):\n",
        "  model.train()\n",
        "  losses = []\n",
        "  for i, (inp, tgt) in enumerate(dl):\n",
        "    ## Fwd\n",
        "    out = model(inp)\n",
        "    loss = criterion(out, tgt)\n",
        "    losses.append(loss.item())\n",
        "\n",
        "    ## Bwd\n",
        "    optimizer.zero_grad()\n",
        "    loss.backward()\n",
        "    optimizer.step()\n",
        "\n",
        "  print(f'Loss_tr: {np.mean(losses) :.4f}')\n",
        "\n",
        "## Main function\n",
        "def main():\n",
        "  dev = 'cuda' if torch.cuda.is_available() else 'cpu'\n",
        "  print(f'device: {dev}')\n",
        "\n",
        "  ds = ds_(dev)\n",
        "  dl = dl_(ds)\n",
        "\n",
        "  n_classes = len(COUNTRIES)\n",
        "  epochs = 10\n",
        "  lr = 1e-3\n",
        "\n",
        "  model = CNN(n_classes).to(dev)\n",
        "  optimizer = torch.optim.Adam(model.parameters(), lr=lr)\n",
        "  criterion = nn.CrossEntropyLoss()\n",
        "\n",
        "  for epoch in range(epochs):\n",
        "    train(model, optimizer, criterion, dl['tr'])\n",
        "    evaluate(model, criterion, dl['te'])\n",
        "\n",
        "  show_example(model, dl['te'], dev)\n",
        "\n",
        "## Execution\n",
        "if __name__ == '__main__':\n",
        "  main()"
      ],
      "metadata": {
        "colab": {
          "base_uri": "https://localhost:8080/",
          "height": 1000
        },
        "id": "uVnFKSymxkLF",
        "outputId": "a9e90356-31d3-4a07-9d4b-2bec85e1bb48"
      },
      "execution_count": 18,
      "outputs": [
        {
          "output_type": "stream",
          "name": "stdout",
          "text": [
            "device: cuda\n",
            "Loss_tr: 0.7929\n",
            "Loss_te: 0.6299 \t Acc_te: 0.7558\n",
            "Loss_tr: 0.5765\n",
            "Loss_te: 0.5232 \t Acc_te: 0.8065\n",
            "Loss_tr: 0.4735\n",
            "Loss_te: 0.5352 \t Acc_te: 0.7967\n",
            "Loss_tr: 0.3816\n",
            "Loss_te: 0.5553 \t Acc_te: 0.7950\n",
            "Loss_tr: 0.2898\n",
            "Loss_te: 0.5262 \t Acc_te: 0.8081\n",
            "Loss_tr: 0.2071\n",
            "Loss_te: 0.5720 \t Acc_te: 0.8285\n",
            "Loss_tr: 0.1502\n",
            "Loss_te: 0.6473 \t Acc_te: 0.8235\n",
            "Loss_tr: 0.1275\n",
            "Loss_te: 0.6459 \t Acc_te: 0.8321\n",
            "Loss_tr: 0.1179\n",
            "Loss_te: 0.7363 \t Acc_te: 0.8308\n",
            "Loss_tr: 0.0895\n",
            "Loss_te: 0.8821 \t Acc_te: 0.8327\n"
          ]
        },
        {
          "output_type": "display_data",
          "data": {
            "text/plain": [
              "<Figure size 432x288 with 1 Axes>"
            ],
            "image/png": "[encoded data removed]"
          },
          "metadata": {
            "needs_background": "light"
          }
        },
        {
          "output_type": "stream",
          "name": "stdout",
          "text": [
            " Predicted: AND\n",
            "    Target: AND\n",
            "--------------------------------------------------\n"
          ]
        },
        {
          "output_type": "display_data",
          "data": {
            "text/plain": [
              "<Figure size 432x288 with 1 Axes>"
            ],
            "image/png": "[encoded data removed]"
          },
          "metadata": {
            "needs_background": "light"
          }
        },
        {
          "output_type": "stream",
          "name": "stdout",
          "text": [
            " Predicted: AUS\n",
            "    Target: AUS\n",
            "--------------------------------------------------\n"
          ]
        },
        {
          "output_type": "display_data",
          "data": {
            "text/plain": [
              "<Figure size 432x288 with 1 Axes>"
            ],
            "image/png": "[encoded data removed]"
          },
          "metadata": {
            "needs_background": "light"
          }
        },
        {
          "output_type": "stream",
          "name": "stdout",
          "text": [
            " Predicted: ARG\n",
            "    Target: ARG\n",
            "--------------------------------------------------\n"
          ]
        },
        {
          "output_type": "display_data",
          "data": {
            "text/plain": [
              "<Figure size 432x288 with 1 Axes>"
            ],
            "image/png": "[encoded data removed]"
          },
          "metadata": {
            "needs_background": "light"
          }
        },
        {
          "output_type": "stream",
          "name": "stdout",
          "text": [
            " Predicted: BGD\n",
            "    Target: BGD\n",
            "--------------------------------------------------\n"
          ]
        }
      ]
    }
  ]
}